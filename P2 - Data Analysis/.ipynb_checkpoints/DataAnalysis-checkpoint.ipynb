{
 "cells": [
  {
   "cell_type": "markdown",
   "metadata": {},
   "source": [
    "# Lahman’s Baseball Database"
   ]
  },
  {
   "cell_type": "markdown",
   "metadata": {},
   "source": [
    "This database contains pitching, hitting, and fielding statistics for\n",
    "Major League Baseball from 1871 through 2016.  It includes data from\n",
    "the two current leagues (American and National), the four other \"major\" \n",
    "leagues (American Association, Union Association, Players League, and\n",
    "Federal League), and the National Association of 1871-1875. "
   ]
  },
  {
   "cell_type": "code",
   "execution_count": 77,
   "metadata": {
    "collapsed": false
   },
   "outputs": [],
   "source": [
    "# Importing the required Python libraries.\n",
    "import csv\n",
    "import numpy as np\n",
    "import pandas as pd\n",
    "import matplotlib.pyplot as plt\n",
    "from datetime import datetime\n",
    "import seaborn as sns\n",
    "\n",
    "%matplotlib inline"
   ]
  },
  {
   "cell_type": "code",
   "execution_count": 2,
   "metadata": {
    "collapsed": false
   },
   "outputs": [],
   "source": [
    "# Storing csv files in pandas data frame.\n",
    "master = pd.read_csv(\"./baseballdatabank-2017.1/core/Master.csv\")\n",
    "batting = pd.read_csv(\"./baseballdatabank-2017.1/core/Batting.csv\")\n",
    "pitching = pd.read_csv(\"./baseballdatabank-2017.1/core/Pitching.csv\")\n",
    "fielding = pd.read_csv(\"./baseballdatabank-2017.1/core/Fielding.csv\")\n",
    "salaries = pd.read_csv(\"./baseballdatabank-2017.1/core/Salaries.csv\")\n",
    "schools = pd.read_csv(\"./baseballdatabank-2017.1/core/Schools.csv\")\n",
    "colleges = pd.read_csv(\"./baseballdatabank-2017.1/core/CollegePlaying.csv\")"
   ]
  },
  {
   "cell_type": "markdown",
   "metadata": {},
   "source": [
    "#### Analysis of master table."
   ]
  },
  {
   "cell_type": "code",
   "execution_count": 10,
   "metadata": {
    "collapsed": false
   },
   "outputs": [
    {
     "data": {
      "text/plain": [
       "<matplotlib.axes._subplots.AxesSubplot at 0x9f0c550>"
      ]
     },
     "execution_count": 10,
     "metadata": {},
     "output_type": "execute_result"
    },
    {
     "data": {
      "image/png": "[encoded data removed]",
      "text/plain": [
       "<matplotlib.figure.Figure at 0x9ed6748>"
      ]
     },
     "metadata": {},
     "output_type": "display_data"
    }
   ],
   "source": [
    "\n",
    "# Histogram plot of players birthmonth.\n",
    "master.birthMonth.plot(kind='hist',bins=12,xticks=range(1,13))"
   ]
  },
  {
   "cell_type": "code",
   "execution_count": 11,
   "metadata": {
    "collapsed": false
   },
   "outputs": [],
   "source": [
    "# Extracting important variables from master table\n",
    "master = master[['playerID','birthYear','birthState','birthCity','deathState','deathCity',\\\n",
    "                 'nameGiven','weight','height','bats','throws','finalGame']]"
   ]
  },
  {
   "cell_type": "markdown",
   "metadata": {},
   "source": [
    "* PlayesID associates player with his personal details like name,date of birth,deathdate etc.So,PlayerID is important field.\n",
    "* Histogram plot of birthMonth among different players shows a near uniform distribution along different months.So,birthMonth might not provide any additional information regarding the performance of the player.Same can be said about birthDay.\n",
    "* birthCountry of most of the player is united states.So,This fields does not provide additional information."
   ]
  },
  {
   "cell_type": "code",
   "execution_count": 7,
   "metadata": {
    "collapsed": false
   },
   "outputs": [
    {
     "name": "stdout",
     "output_type": "stream",
     "text": [
      "Number of players whose birthYear is not recorded : 132\n",
      "Number of players whose birthState is not recorded : 571\n",
      "Number of players whose birthCity is not recorded : 180\n",
      "Number of players whose nameGiven is not recorded : 37\n"
     ]
    }
   ],
   "source": [
    "# Checking for null values in master table.\n",
    "print (\"Number of players whose birthYear is not recorded : {}\".format(master.birthYear.isnull().value_counts()[1]))\n",
    "print (\"Number of players whose birthState is not recorded : {}\".format(master.birthState.isnull().value_counts()[1]))\n",
    "print (\"Number of players whose birthCity is not recorded : {}\".format(master.birthCity.isnull().value_counts()[1]))\n",
    "print (\"Number of players whose nameGiven is not recorded : {}\".format(master.nameGiven.isnull().value_counts()[1]))"
   ]
  },
  {
   "cell_type": "code",
   "execution_count": 8,
   "metadata": {
    "collapsed": false
   },
   "outputs": [],
   "source": [
    "# Replacing current players final date with current date.\n",
    "date_object = datetime.now()\n",
    "formatted_date = date_object.strftime('%Y-%m-%d')\n",
    "master.finalGame.fillna(formatted_date,inplace=True)"
   ]
  },
  {
   "cell_type": "code",
   "execution_count": 12,
   "metadata": {
    "collapsed": false
   },
   "outputs": [
    {
     "data": {
      "text/plain": [
       "Index(['playerID', 'yearID', 'stint', 'teamID', 'lgID', 'G', 'AB', 'R', 'H',\n",
       "       '2B', '3B', 'HR', 'RBI', 'SB', 'CS', 'BB', 'SO', 'IBB', 'HBP', 'SH',\n",
       "       'SF', 'GIDP'],\n",
       "      dtype='object')"
      ]
     },
     "execution_count": 12,
     "metadata": {},
     "output_type": "execute_result"
    }
   ],
   "source": [
    "# Extracting important columns from batting table.\n",
    "batting = batting[['playerID','stint','teamID','lgID','AB','H','R','G','2B','3B','HR']]"
   ]
  },
  {
   "cell_type": "code",
   "execution_count": null,
   "metadata": {
    "collapsed": true
   },
   "outputs": [],
   "source": [
    "# Lot of the records are having missing values in some feilds. These values  are facts. More detailed analysis of fields and data outside \n",
    "# of our current dataset is required to fill in these missing values.So, to avoid incorrect analysis ,records with incomplete data \n",
    "# dropped.\n",
    "def process_data(df):\n",
    "    \"\"\"\n",
    "    Takes in pandas dataframe.Removes records with null values.\n",
    "    Removes duplicates and returns the cleaned dataset.\n",
    "    \"\"\"\n",
    "    df.dropna(inplace=True)\n",
    "    df.drop_duplicates(inplace=True)\n",
    "    return df"
   ]
  },
  {
   "cell_type": "code",
   "execution_count": null,
   "metadata": {
    "collapsed": true
   },
   "outputs": [],
   "source": [
    "master = process_data(master)\n",
    "batting = process_data(batting)"
   ]
  },
  {
   "cell_type": "code",
   "execution_count": null,
   "metadata": {
    "collapsed": true
   },
   "outputs": [],
   "source": []
  },
  {
   "cell_type": "markdown",
   "metadata": {},
   "source": [
    "##### Analysis of Batting stats of players."
   ]
  },
  {
   "cell_type": "markdown",
   "metadata": {},
   "source": [
    "###### Is there a positive corellation between highest runs and number of matches? Or is there a corellation between number of runs and number of years players play?"
   ]
  },
  {
   "cell_type": "code",
   "execution_count": null,
   "metadata": {
    "collapsed": false
   },
   "outputs": [],
   "source": [
    "player_total_runs = batting.groupby(by='playerID',as_index = False).sum()\n",
    "player_total_runs.sort_values(by = 'R',ascending=False)\n",
    "plt = player_total_runs.plot(x='R',y='G',style='o',kind='scatter',title='Number of Runs Vs Number of Matches')"
   ]
  },
  {
   "cell_type": "code",
   "execution_count": null,
   "metadata": {
    "collapsed": false
   },
   "outputs": [],
   "source": []
  },
  {
   "cell_type": "markdown",
   "metadata": {},
   "source": [
    "# Questions \n",
    "* corellation between player performance and salaries.\n",
    "* salaries(runs,batting,fielding) of the players based on particular school.\n",
    "* Most popular cities for the players in batting,fielding and bowling fields.\n",
    "* schools and colleges correlation.\n",
    "* Average play span of the players for each decade.\n",
    "* Does high performace players play for longer time\n",
    "* performance to win ratio conversion.\n",
    "* Is risky playing paying off.\n"
   ]
  },
  {
   "cell_type": "markdown",
   "metadata": {},
   "source": [
    "### Is there any correlation between performance of the player and salary of the player for particular year or next year?"
   ]
  },
  {
   "cell_type": "markdown",
   "metadata": {},
   "source": [
    "There are two important fields where a player can contribute maximum to a team.Those are batting and pitching. Salary of the player depends on the value player contributes in winning the team for a particular season. Let's analyze batting and pitching metrics of different players and compare their salaries based on these metrics."
   ]
  },
  {
   "cell_type": "markdown",
   "metadata": {},
   "source": [
    "#### Batting"
   ]
  },
  {
   "cell_type": "markdown",
   "metadata": {},
   "source": [
    "Batting provides runs to the team.More runs a player makes, more are the chances for the team to win. So, offensive batting play of the player is given more importance. Two important sabermetric parameters for measuring players performance are OPS and wRC+.  Even though wRC+ provides more insight into players performance, its measure is limited to one particular season.As we want to measure the performance of players across all eras OPS is the perfect metric.\n",
    "\n",
    "\n",
    "OPS stands for On-base Plus Slugging. It's the sum of a player’s on-base percentage and their slugging percentage.\n",
    "\n",
    "**Formulas**\n",
    "$$ OPS = OBP + SLG $$\n",
    "$$ OBP = (H + BB + HBP) / (AB + BB + HBP + SF) $$\n",
    "$$ SLG = (1B + 2*2B + 3*3B + 4*HR) / AB $$\n",
    "\n",
    "In general, OPS captures a player’s ability to get on base and their ability to hit for extra bases. For the most part, those two factors capture more of what hitters are trying to do. Generally speaking, if you sort hitters by OPS, you are sorting them based on their production to date with some minor exceptions.\n",
    "\n",
    "OPS can determine how well a hitter has performed over a given period of time. The key to using OPS is understanding the current offensive climate. A .900 OPS is much more impressive in 2015 than it was in 2000. These days, league average is about .710 or so, with the best hitters around 1.000."
   ]
  },
  {
   "cell_type": "code",
   "execution_count": 3,
   "metadata": {
    "collapsed": false
   },
   "outputs": [
    {
     "data": {
      "text/plain": [
       "Index(['playerID', 'yearID', 'stint', 'teamID', 'lgID', 'G', 'AB', 'R', 'H',\n",
       "       '2B', '3B', 'HR', 'RBI', 'SB', 'CS', 'BB', 'SO', 'IBB', 'HBP', 'SH',\n",
       "       'SF', 'GIDP'],\n",
       "      dtype='object')"
      ]
     },
     "execution_count": 3,
     "metadata": {},
     "output_type": "execute_result"
    }
   ],
   "source": [
    "# Columns in batting table.\n",
    "batting.columns"
   ]
  },
  {
   "cell_type": "markdown",
   "metadata": {},
   "source": [
    " **__Batting Table__**\n",
    "\n",
    "| code | Name\n",
    "| --- | ---\n",
    "| playerID | Player ID code\n",
    "| yearID | Year\n",
    "| stint | player's stint (order of appearances within a season)\n",
    "| teamID | Team\n",
    "| lgID | League\n",
    "| G | Games\n",
    "| AB | At Bats\n",
    "| R | Runs\n",
    "| H | Hits\n",
    "| 2B | Doubles\n",
    "| 3B | Triples\n",
    "| HR | Homeruns\n",
    "| RBI | Runs Batted In\n",
    "| SB | Stolen Bases\n",
    "| CS | Caught Stealing\n",
    "| BB | Base on Balls\n",
    "| SO | Strikeouts\n",
    "| IBB | Intentional walks\n",
    "| HBP | Hit by pitch\n",
    "| SH | Sacrifice hits\n",
    "| SF | Sacrifice flies\n",
    "| GIDP | Grounded into double plays"
   ]
  },
  {
   "cell_type": "code",
   "execution_count": 38,
   "metadata": {
    "collapsed": false
   },
   "outputs": [
    {
     "data": {
      "text/html": [
       "<div>\n",
       "<table border=\"1\" class=\"dataframe\">\n",
       "  <thead>\n",
       "    <tr style=\"text-align: right;\">\n",
       "      <th></th>\n",
       "      <th>playerID</th>\n",
       "      <th>yearID</th>\n",
       "      <th>OPS</th>\n",
       "      <th>AB</th>\n",
       "    </tr>\n",
       "  </thead>\n",
       "  <tbody>\n",
       "    <tr>\n",
       "      <th>102802</th>\n",
       "      <td>ynoami01</td>\n",
       "      <td>2016</td>\n",
       "      <td>NaN</td>\n",
       "      <td>0</td>\n",
       "    </tr>\n",
       "    <tr>\n",
       "      <th>102807</th>\n",
       "      <td>youngma03</td>\n",
       "      <td>2016</td>\n",
       "      <td>NaN</td>\n",
       "      <td>0</td>\n",
       "    </tr>\n",
       "    <tr>\n",
       "      <th>102809</th>\n",
       "      <td>zieglbr01</td>\n",
       "      <td>2016</td>\n",
       "      <td>NaN</td>\n",
       "      <td>0</td>\n",
       "    </tr>\n",
       "    <tr>\n",
       "      <th>102810</th>\n",
       "      <td>zieglbr01</td>\n",
       "      <td>2016</td>\n",
       "      <td>NaN</td>\n",
       "      <td>0</td>\n",
       "    </tr>\n",
       "    <tr>\n",
       "      <th>102815</th>\n",
       "      <td>zychto01</td>\n",
       "      <td>2016</td>\n",
       "      <td>NaN</td>\n",
       "      <td>0</td>\n",
       "    </tr>\n",
       "  </tbody>\n",
       "</table>\n",
       "</div>"
      ],
      "text/plain": [
       "         playerID  yearID  OPS  AB\n",
       "102802   ynoami01    2016  NaN   0\n",
       "102807  youngma03    2016  NaN   0\n",
       "102809  zieglbr01    2016  NaN   0\n",
       "102810  zieglbr01    2016  NaN   0\n",
       "102815   zychto01    2016  NaN   0"
      ]
     },
     "execution_count": 38,
     "metadata": {},
     "output_type": "execute_result"
    }
   ],
   "source": [
    "# Deep copying the dataframe.\n",
    "batting_ops = batting.copy()\n",
    "# calculate OBP\n",
    "batting['OBP'] = (batting_ops['H']+batting_ops['BB']+batting_ops['HBP']).div((batting_ops['AB']+batting_ops['BB']+batting_ops['HBP']+batting_ops['SF']))\n",
    "batting_ops['OBP'].dropna(inplace=True)\n",
    "# calcualting SLG\n",
    "# H = 1B+2B+3B+HR\n",
    "batting_ops['1B'] = (batting_ops['H'] - (batting_ops['2B']+batting_ops['3B']+batting_ops['HR']))\n",
    "batting_ops['SLG'] = (batting_ops['H']+batting_ops['2B']+batting_ops['3B']*2+batting_ops['HR']*3).div(batting_ops['AB'])\n",
    "batting_ops['OPS'] = batting_ops['OBP']+batting_ops['SLG']\n",
    "\n",
    "# Few of OPS values containing nulls.\n",
    "batting_ops[['playerID','yearID','OPS','AB']].sort_values('OPS').tail()"
   ]
  },
  {
   "cell_type": "code",
   "execution_count": 37,
   "metadata": {
    "collapsed": false
   },
   "outputs": [
    {
     "data": {
      "text/html": [
       "<div>\n",
       "<table border=\"1\" class=\"dataframe\">\n",
       "  <thead>\n",
       "    <tr style=\"text-align: right;\">\n",
       "      <th></th>\n",
       "      <th>False</th>\n",
       "      <th>True</th>\n",
       "    </tr>\n",
       "  </thead>\n",
       "  <tbody>\n",
       "    <tr>\n",
       "      <th>playerID</th>\n",
       "      <td>102816.0</td>\n",
       "      <td>NaN</td>\n",
       "    </tr>\n",
       "    <tr>\n",
       "      <th>yearID</th>\n",
       "      <td>102816.0</td>\n",
       "      <td>NaN</td>\n",
       "    </tr>\n",
       "    <tr>\n",
       "      <th>stint</th>\n",
       "      <td>102816.0</td>\n",
       "      <td>NaN</td>\n",
       "    </tr>\n",
       "    <tr>\n",
       "      <th>teamID</th>\n",
       "      <td>102816.0</td>\n",
       "      <td>NaN</td>\n",
       "    </tr>\n",
       "    <tr>\n",
       "      <th>lgID</th>\n",
       "      <td>102079.0</td>\n",
       "      <td>737.0</td>\n",
       "    </tr>\n",
       "    <tr>\n",
       "      <th>G</th>\n",
       "      <td>102816.0</td>\n",
       "      <td>NaN</td>\n",
       "    </tr>\n",
       "    <tr>\n",
       "      <th>AB</th>\n",
       "      <td>102816.0</td>\n",
       "      <td>NaN</td>\n",
       "    </tr>\n",
       "    <tr>\n",
       "      <th>R</th>\n",
       "      <td>102816.0</td>\n",
       "      <td>NaN</td>\n",
       "    </tr>\n",
       "    <tr>\n",
       "      <th>H</th>\n",
       "      <td>102816.0</td>\n",
       "      <td>NaN</td>\n",
       "    </tr>\n",
       "    <tr>\n",
       "      <th>2B</th>\n",
       "      <td>102816.0</td>\n",
       "      <td>NaN</td>\n",
       "    </tr>\n",
       "    <tr>\n",
       "      <th>3B</th>\n",
       "      <td>102816.0</td>\n",
       "      <td>NaN</td>\n",
       "    </tr>\n",
       "    <tr>\n",
       "      <th>HR</th>\n",
       "      <td>102816.0</td>\n",
       "      <td>NaN</td>\n",
       "    </tr>\n",
       "    <tr>\n",
       "      <th>RBI</th>\n",
       "      <td>102392.0</td>\n",
       "      <td>424.0</td>\n",
       "    </tr>\n",
       "    <tr>\n",
       "      <th>SB</th>\n",
       "      <td>101516.0</td>\n",
       "      <td>1300.0</td>\n",
       "    </tr>\n",
       "    <tr>\n",
       "      <th>CS</th>\n",
       "      <td>79360.0</td>\n",
       "      <td>23456.0</td>\n",
       "    </tr>\n",
       "    <tr>\n",
       "      <th>BB</th>\n",
       "      <td>102816.0</td>\n",
       "      <td>NaN</td>\n",
       "    </tr>\n",
       "    <tr>\n",
       "      <th>SO</th>\n",
       "      <td>94978.0</td>\n",
       "      <td>7838.0</td>\n",
       "    </tr>\n",
       "    <tr>\n",
       "      <th>IBB</th>\n",
       "      <td>66251.0</td>\n",
       "      <td>36565.0</td>\n",
       "    </tr>\n",
       "    <tr>\n",
       "      <th>HBP</th>\n",
       "      <td>100006.0</td>\n",
       "      <td>2810.0</td>\n",
       "    </tr>\n",
       "    <tr>\n",
       "      <th>SH</th>\n",
       "      <td>96478.0</td>\n",
       "      <td>6338.0</td>\n",
       "    </tr>\n",
       "    <tr>\n",
       "      <th>SF</th>\n",
       "      <td>66782.0</td>\n",
       "      <td>36034.0</td>\n",
       "    </tr>\n",
       "    <tr>\n",
       "      <th>GIDP</th>\n",
       "      <td>76706.0</td>\n",
       "      <td>26110.0</td>\n",
       "    </tr>\n",
       "    <tr>\n",
       "      <th>OBP</th>\n",
       "      <td>51852.0</td>\n",
       "      <td>50964.0</td>\n",
       "    </tr>\n",
       "    <tr>\n",
       "      <th>1B</th>\n",
       "      <td>102816.0</td>\n",
       "      <td>NaN</td>\n",
       "    </tr>\n",
       "    <tr>\n",
       "      <th>SLG</th>\n",
       "      <td>87435.0</td>\n",
       "      <td>15381.0</td>\n",
       "    </tr>\n",
       "    <tr>\n",
       "      <th>OPS</th>\n",
       "      <td>51704.0</td>\n",
       "      <td>51112.0</td>\n",
       "    </tr>\n",
       "  </tbody>\n",
       "</table>\n",
       "</div>"
      ],
      "text/plain": [
       "             False    True \n",
       "playerID  102816.0      NaN\n",
       "yearID    102816.0      NaN\n",
       "stint     102816.0      NaN\n",
       "teamID    102816.0      NaN\n",
       "lgID      102079.0    737.0\n",
       "G         102816.0      NaN\n",
       "AB        102816.0      NaN\n",
       "R         102816.0      NaN\n",
       "H         102816.0      NaN\n",
       "2B        102816.0      NaN\n",
       "3B        102816.0      NaN\n",
       "HR        102816.0      NaN\n",
       "RBI       102392.0    424.0\n",
       "SB        101516.0   1300.0\n",
       "CS         79360.0  23456.0\n",
       "BB        102816.0      NaN\n",
       "SO         94978.0   7838.0\n",
       "IBB        66251.0  36565.0\n",
       "HBP       100006.0   2810.0\n",
       "SH         96478.0   6338.0\n",
       "SF         66782.0  36034.0\n",
       "GIDP       76706.0  26110.0\n",
       "OBP        51852.0  50964.0\n",
       "1B        102816.0      NaN\n",
       "SLG        87435.0  15381.0\n",
       "OPS        51704.0  51112.0"
      ]
     },
     "execution_count": 37,
     "metadata": {},
     "output_type": "execute_result"
    }
   ],
   "source": [
    "def values_counts(x):\n",
    "    return x.value_counts()\n",
    "batting.isnull().apply(values_counts).transpose()"
   ]
  },
  {
   "cell_type": "markdown",
   "metadata": {},
   "source": [
    "We can see there are few varialbes which are used in the OPS calucualtion contains null values i.e 'HBP' and 'SF'.These will create null values in OPS varialbe too and also while merging with salaries table."
   ]
  },
  {
   "cell_type": "code",
   "execution_count": 44,
   "metadata": {
    "collapsed": false
   },
   "outputs": [
    {
     "name": "stdout",
     "output_type": "stream",
     "text": [
      "Minimum values of OPS : 0.0\n",
      "Maximum values of OPS : 5.0\n",
      "Mean values of OPS : 0.5519945914670831\n",
      "Mean values of At Bats for a player : 166.84498700080147\n"
     ]
    },
    {
     "data": {
      "text/html": [
       "<div>\n",
       "<table border=\"1\" class=\"dataframe\">\n",
       "  <thead>\n",
       "    <tr style=\"text-align: right;\">\n",
       "      <th></th>\n",
       "      <th>playerID</th>\n",
       "      <th>yearID</th>\n",
       "      <th>OPS</th>\n",
       "      <th>AB</th>\n",
       "    </tr>\n",
       "  </thead>\n",
       "  <tbody>\n",
       "    <tr>\n",
       "      <th>39666</th>\n",
       "      <td>lindsch02</td>\n",
       "      <td>1958</td>\n",
       "      <td>4.0</td>\n",
       "      <td>1</td>\n",
       "    </tr>\n",
       "    <tr>\n",
       "      <th>66023</th>\n",
       "      <td>perrypa02</td>\n",
       "      <td>1988</td>\n",
       "      <td>5.0</td>\n",
       "      <td>1</td>\n",
       "    </tr>\n",
       "    <tr>\n",
       "      <th>93074</th>\n",
       "      <td>chacigu01</td>\n",
       "      <td>2010</td>\n",
       "      <td>5.0</td>\n",
       "      <td>1</td>\n",
       "    </tr>\n",
       "    <tr>\n",
       "      <th>87023</th>\n",
       "      <td>rogered01</td>\n",
       "      <td>2005</td>\n",
       "      <td>5.0</td>\n",
       "      <td>1</td>\n",
       "    </tr>\n",
       "    <tr>\n",
       "      <th>39860</th>\n",
       "      <td>sleatlo01</td>\n",
       "      <td>1958</td>\n",
       "      <td>5.0</td>\n",
       "      <td>1</td>\n",
       "    </tr>\n",
       "    <tr>\n",
       "      <th>61940</th>\n",
       "      <td>quirkja01</td>\n",
       "      <td>1984</td>\n",
       "      <td>5.0</td>\n",
       "      <td>1</td>\n",
       "    </tr>\n",
       "    <tr>\n",
       "      <th>78763</th>\n",
       "      <td>motagu01</td>\n",
       "      <td>1999</td>\n",
       "      <td>5.0</td>\n",
       "      <td>1</td>\n",
       "    </tr>\n",
       "    <tr>\n",
       "      <th>90632</th>\n",
       "      <td>hernafe02</td>\n",
       "      <td>2008</td>\n",
       "      <td>5.0</td>\n",
       "      <td>1</td>\n",
       "    </tr>\n",
       "    <tr>\n",
       "      <th>80618</th>\n",
       "      <td>yanes01</td>\n",
       "      <td>2000</td>\n",
       "      <td>5.0</td>\n",
       "      <td>1</td>\n",
       "    </tr>\n",
       "    <tr>\n",
       "      <th>43185</th>\n",
       "      <td>narumbu01</td>\n",
       "      <td>1963</td>\n",
       "      <td>5.0</td>\n",
       "      <td>1</td>\n",
       "    </tr>\n",
       "  </tbody>\n",
       "</table>\n",
       "</div>"
      ],
      "text/plain": [
       "        playerID  yearID  OPS  AB\n",
       "39666  lindsch02    1958  4.0   1\n",
       "66023  perrypa02    1988  5.0   1\n",
       "93074  chacigu01    2010  5.0   1\n",
       "87023  rogered01    2005  5.0   1\n",
       "39860  sleatlo01    1958  5.0   1\n",
       "61940  quirkja01    1984  5.0   1\n",
       "78763   motagu01    1999  5.0   1\n",
       "90632  hernafe02    2008  5.0   1\n",
       "80618    yanes01    2000  5.0   1\n",
       "43185  narumbu01    1963  5.0   1"
      ]
     },
     "execution_count": 44,
     "metadata": {},
     "output_type": "execute_result"
    }
   ],
   "source": [
    "batting_ops.dropna(inplace=True)\n",
    "print(\"Minimum values of OPS : {}\".format(batting_ops.OPS.min()))\n",
    "print(\"Maximum values of OPS : {}\".format(batting_ops.OPS.max()))\n",
    "print(\"Mean values of OPS : {}\".format(batting_ops.OPS.mean()))\n",
    "print(\"Mean values of At Bats for a player : {}\".format(batting_ops.AB.mean()))\n",
    "\n",
    "batting_ops[['playerID','yearID','OPS','AB']].sort_values('OPS').tail(10)"
   ]
  },
  {
   "cell_type": "markdown",
   "metadata": {},
   "source": [
    "OPS of 5 is very high value, When checked AB(at bats) varialbe we can see that very high ops players batted very less time.So,keeping a cut off 20(mean is 166) for players will remove this uncessary high OPS values."
   ]
  },
  {
   "cell_type": "code",
   "execution_count": 48,
   "metadata": {
    "collapsed": false
   },
   "outputs": [],
   "source": [
    "batting_ops = batting_ops[batting_ops['AB']>20]"
   ]
  },
  {
   "cell_type": "code",
   "execution_count": 72,
   "metadata": {
    "collapsed": false
   },
   "outputs": [
    {
     "data": {
      "text/plain": [
       "0.10062968700917398"
      ]
     },
     "execution_count": 72,
     "metadata": {},
     "output_type": "execute_result"
    },
    {
     "data": {
      "image/png": "[encoded data removed]",
      "text/plain": [
       "<matplotlib.figure.Figure at 0xdc84dd8>"
      ]
     },
     "metadata": {},
     "output_type": "display_data"
    }
   ],
   "source": [
    "# Merging salaries and batting dataframe based on playerID and yeadID.\n",
    "salary_OPS_merge = salaries.merge(batting_ops[['playerID','yearID','OPS','AB']],how='inner',on=['playerID','yearID'])\n",
    "# Dropping Null values from salary_OPS_merge dataframe.\n",
    "salary_OPS_merge.dropna(inplace=True)"
   ]
  },
  {
   "cell_type": "code",
   "execution_count": null,
   "metadata": {
    "collapsed": true
   },
   "outputs": [],
   "source": [
    "# salary_OPS_merge.groupby('playerID').mean()[['salary','OPS','AB']].sort_values('OPS')"
   ]
  },
  {
   "cell_type": "markdown",
   "metadata": {},
   "source": [
    "###### Analysing salary against OPS"
   ]
  },
  {
   "cell_type": "code",
   "execution_count": 86,
   "metadata": {
    "collapsed": false
   },
   "outputs": [
    {
     "name": "stdout",
     "output_type": "stream",
     "text": [
      "Correlation between salary and OPS is : 0.1338106288103075\n"
     ]
    },
    {
     "data": {
      "text/plain": [
       "<matplotlib.axes._subplots.AxesSubplot at 0x11cf9b70>"
      ]
     },
     "execution_count": 86,
     "metadata": {},
     "output_type": "execute_result"
    },
    {
     "data": {
      "image/png": "[encoded data removed]",
      "text/plain": [
       "<matplotlib.figure.Figure at 0xdc761d0>"
      ]
     },
     "metadata": {},
     "output_type": "display_data"
    }
   ],
   "source": [
    "# understand the pitching performance stastics.\n",
    "# get picthing staticstics measure.\n",
    "# measure it.\n",
    "# Plot your ananlysis of the first question and discuss about it.\n",
    "def corr_x(x):\n",
    "    return x.OPS.corr(x.salary)\n",
    "print(\"Correlation between salary and OPS is : {}\".format(corr_x(salary_OPS_merge)))\n",
    "salary_OPS_merge.plot(x='OPS',y='salary',kind = 'scatter',title='Salary vs OPS')"
   ]
  },
  {
   "cell_type": "code",
   "execution_count": 104,
   "metadata": {
    "collapsed": false
   },
   "outputs": [
    {
     "data": {
      "text/plain": [
       "yearID\n",
       "[1985, 1992]    0.121273\n",
       "(1992, 1998]    0.232429\n",
       "(1998, 2004]    0.222596\n",
       "(2004, 2010]    0.159602\n",
       "(2010, 2016]    0.122108\n",
       "dtype: float64"
      ]
     },
     "execution_count": 104,
     "metadata": {},
     "output_type": "execute_result"
    }
   ],
   "source": [
    "salary_OPS_merge.groupby(pd.qcut(salary_OPS_merge.yearID,5)).apply(corr_x)"
   ]
  },
  {
   "cell_type": "code",
   "execution_count": null,
   "metadata": {
    "collapsed": true
   },
   "outputs": [],
   "source": []
  },
  {
   "cell_type": "code",
   "execution_count": 3,
   "metadata": {
    "collapsed": false
   },
   "outputs": [
    {
     "data": {
      "text/plain": [
       "Index(['playerID', 'yearID', 'stint', 'teamID', 'lgID', 'W', 'L', 'G', 'GS',\n",
       "       'CG', 'SHO', 'SV', 'IPouts', 'H', 'ER', 'HR', 'BB', 'SO', 'BAOpp',\n",
       "       'ERA', 'IBB', 'WP', 'HBP', 'BK', 'BFP', 'GF', 'R', 'SH', 'SF', 'GIDP'],\n",
       "      dtype='object')"
      ]
     },
     "execution_count": 3,
     "metadata": {},
     "output_type": "execute_result"
    }
   ],
   "source": [
    "pitching.columns"
   ]
  },
  {
   "cell_type": "code",
   "execution_count": 15,
   "metadata": {
    "collapsed": false
   },
   "outputs": [],
   "source": [
    "# Calcualting FIP\n",
    "# FIP = ((13 x Home Runs) + (3 x Walks) – (2 x Strikeouts)) / (Innings Pitched))\n",
    "pitching['FIP']=(pitching['HR']*13+(pitching['BB']+pitching['HBP']*3-pitching['SO']*2)).div(pitching['IPouts']/3)"
   ]
  },
  {
   "cell_type": "code",
   "execution_count": 39,
   "metadata": {
    "collapsed": false
   },
   "outputs": [],
   "source": [
    "# merging pitching and salaries table.\n",
    "salaries_pitching_merge = salaries.merge(pitching[['playerID','yearID','FIP','IPouts']],how='inner',on=['playerID','yearID'])"
   ]
  },
  {
   "cell_type": "code",
   "execution_count": 42,
   "metadata": {
    "collapsed": false
   },
   "outputs": [
    {
     "data": {
      "text/html": [
       "<div>\n",
       "<table border=\"1\" class=\"dataframe\">\n",
       "  <thead>\n",
       "    <tr style=\"text-align: right;\">\n",
       "      <th></th>\n",
       "      <th>yearID</th>\n",
       "      <th>teamID</th>\n",
       "      <th>lgID</th>\n",
       "      <th>playerID</th>\n",
       "      <th>salary</th>\n",
       "      <th>FIP</th>\n",
       "      <th>IPouts</th>\n",
       "    </tr>\n",
       "  </thead>\n",
       "  <tbody>\n",
       "    <tr>\n",
       "      <th>12096</th>\n",
       "      <td>2014</td>\n",
       "      <td>CIN</td>\n",
       "      <td>NL</td>\n",
       "      <td>chapmar01</td>\n",
       "      <td>5000000</td>\n",
       "      <td>-3.129630</td>\n",
       "      <td>162</td>\n",
       "    </tr>\n",
       "    <tr>\n",
       "      <th>13179</th>\n",
       "      <td>2016</td>\n",
       "      <td>NYY</td>\n",
       "      <td>AL</td>\n",
       "      <td>chapmar01</td>\n",
       "      <td>9468443</td>\n",
       "      <td>-3.075000</td>\n",
       "      <td>80</td>\n",
       "    </tr>\n",
       "    <tr>\n",
       "      <th>11145</th>\n",
       "      <td>2012</td>\n",
       "      <td>ATL</td>\n",
       "      <td>NL</td>\n",
       "      <td>kimbrcr01</td>\n",
       "      <td>590000</td>\n",
       "      <td>-2.760638</td>\n",
       "      <td>188</td>\n",
       "    </tr>\n",
       "    <tr>\n",
       "      <th>7461</th>\n",
       "      <td>2003</td>\n",
       "      <td>LAN</td>\n",
       "      <td>NL</td>\n",
       "      <td>gagneer01</td>\n",
       "      <td>550000</td>\n",
       "      <td>-2.659919</td>\n",
       "      <td>247</td>\n",
       "    </tr>\n",
       "    <tr>\n",
       "      <th>12165</th>\n",
       "      <td>2014</td>\n",
       "      <td>KCA</td>\n",
       "      <td>AL</td>\n",
       "      <td>daviswa01</td>\n",
       "      <td>4800000</td>\n",
       "      <td>-2.583333</td>\n",
       "      <td>216</td>\n",
       "    </tr>\n",
       "    <tr>\n",
       "      <th>10344</th>\n",
       "      <td>2010</td>\n",
       "      <td>CHN</td>\n",
       "      <td>NL</td>\n",
       "      <td>marmoca01</td>\n",
       "      <td>2125000</td>\n",
       "      <td>-2.407725</td>\n",
       "      <td>233</td>\n",
       "    </tr>\n",
       "    <tr>\n",
       "      <th>5525</th>\n",
       "      <td>1999</td>\n",
       "      <td>BAL</td>\n",
       "      <td>AL</td>\n",
       "      <td>ryanbj01</td>\n",
       "      <td>200000</td>\n",
       "      <td>-2.400000</td>\n",
       "      <td>55</td>\n",
       "    </tr>\n",
       "    <tr>\n",
       "      <th>6666</th>\n",
       "      <td>2001</td>\n",
       "      <td>MON</td>\n",
       "      <td>NL</td>\n",
       "      <td>urbinug01</td>\n",
       "      <td>4200000</td>\n",
       "      <td>-2.400000</td>\n",
       "      <td>60</td>\n",
       "    </tr>\n",
       "    <tr>\n",
       "      <th>12054</th>\n",
       "      <td>2014</td>\n",
       "      <td>BOS</td>\n",
       "      <td>AL</td>\n",
       "      <td>millean01</td>\n",
       "      <td>1900000</td>\n",
       "      <td>-2.400000</td>\n",
       "      <td>60</td>\n",
       "    </tr>\n",
       "    <tr>\n",
       "      <th>13142</th>\n",
       "      <td>2016</td>\n",
       "      <td>MIL</td>\n",
       "      <td>NL</td>\n",
       "      <td>smithwi04</td>\n",
       "      <td>1475000</td>\n",
       "      <td>-2.345455</td>\n",
       "      <td>55</td>\n",
       "    </tr>\n",
       "    <tr>\n",
       "      <th>10708</th>\n",
       "      <td>2011</td>\n",
       "      <td>ATL</td>\n",
       "      <td>NL</td>\n",
       "      <td>kimbrcr01</td>\n",
       "      <td>419000</td>\n",
       "      <td>-2.337662</td>\n",
       "      <td>231</td>\n",
       "    </tr>\n",
       "    <tr>\n",
       "      <th>11030</th>\n",
       "      <td>2011</td>\n",
       "      <td>SFN</td>\n",
       "      <td>NL</td>\n",
       "      <td>romose01</td>\n",
       "      <td>450000</td>\n",
       "      <td>-2.270833</td>\n",
       "      <td>144</td>\n",
       "    </tr>\n",
       "    <tr>\n",
       "      <th>10887</th>\n",
       "      <td>2011</td>\n",
       "      <td>LAN</td>\n",
       "      <td>NL</td>\n",
       "      <td>janseke01</td>\n",
       "      <td>416000</td>\n",
       "      <td>-2.254658</td>\n",
       "      <td>161</td>\n",
       "    </tr>\n",
       "    <tr>\n",
       "      <th>10931</th>\n",
       "      <td>2011</td>\n",
       "      <td>NYA</td>\n",
       "      <td>AL</td>\n",
       "      <td>roberda08</td>\n",
       "      <td>460450</td>\n",
       "      <td>-2.235000</td>\n",
       "      <td>200</td>\n",
       "    </tr>\n",
       "    <tr>\n",
       "      <th>11734</th>\n",
       "      <td>2013</td>\n",
       "      <td>KCA</td>\n",
       "      <td>AL</td>\n",
       "      <td>hollagr01</td>\n",
       "      <td>539500</td>\n",
       "      <td>-2.223881</td>\n",
       "      <td>201</td>\n",
       "    </tr>\n",
       "    <tr>\n",
       "      <th>11221</th>\n",
       "      <td>2012</td>\n",
       "      <td>CIN</td>\n",
       "      <td>NL</td>\n",
       "      <td>chapmar01</td>\n",
       "      <td>4835772</td>\n",
       "      <td>-2.190698</td>\n",
       "      <td>215</td>\n",
       "    </tr>\n",
       "    <tr>\n",
       "      <th>7688</th>\n",
       "      <td>2004</td>\n",
       "      <td>ANA</td>\n",
       "      <td>AL</td>\n",
       "      <td>rodrifr03</td>\n",
       "      <td>375000</td>\n",
       "      <td>-2.190476</td>\n",
       "      <td>252</td>\n",
       "    </tr>\n",
       "    <tr>\n",
       "      <th>12525</th>\n",
       "      <td>2015</td>\n",
       "      <td>CIN</td>\n",
       "      <td>NL</td>\n",
       "      <td>chapmar01</td>\n",
       "      <td>8050000</td>\n",
       "      <td>-2.185930</td>\n",
       "      <td>199</td>\n",
       "    </tr>\n",
       "    <tr>\n",
       "      <th>9647</th>\n",
       "      <td>2008</td>\n",
       "      <td>NYA</td>\n",
       "      <td>AL</td>\n",
       "      <td>hawkila01</td>\n",
       "      <td>3750000</td>\n",
       "      <td>-2.142857</td>\n",
       "      <td>63</td>\n",
       "    </tr>\n",
       "    <tr>\n",
       "      <th>12024</th>\n",
       "      <td>2014</td>\n",
       "      <td>ATL</td>\n",
       "      <td>NL</td>\n",
       "      <td>kimbrcr01</td>\n",
       "      <td>7000000</td>\n",
       "      <td>-2.140541</td>\n",
       "      <td>185</td>\n",
       "    </tr>\n",
       "    <tr>\n",
       "      <th>13176</th>\n",
       "      <td>2016</td>\n",
       "      <td>NYY</td>\n",
       "      <td>AL</td>\n",
       "      <td>betande01</td>\n",
       "      <td>507500</td>\n",
       "      <td>-2.136986</td>\n",
       "      <td>219</td>\n",
       "    </tr>\n",
       "    <tr>\n",
       "      <th>11624</th>\n",
       "      <td>2013</td>\n",
       "      <td>CHA</td>\n",
       "      <td>AL</td>\n",
       "      <td>crainje01</td>\n",
       "      <td>4500000</td>\n",
       "      <td>-2.127273</td>\n",
       "      <td>110</td>\n",
       "    </tr>\n",
       "    <tr>\n",
       "      <th>5681</th>\n",
       "      <td>1999</td>\n",
       "      <td>HOU</td>\n",
       "      <td>NL</td>\n",
       "      <td>wagnebi02</td>\n",
       "      <td>2250000</td>\n",
       "      <td>-2.102679</td>\n",
       "      <td>224</td>\n",
       "    </tr>\n",
       "    <tr>\n",
       "      <th>5793</th>\n",
       "      <td>1999</td>\n",
       "      <td>NYN</td>\n",
       "      <td>NL</td>\n",
       "      <td>benitar01</td>\n",
       "      <td>2037500</td>\n",
       "      <td>-2.089744</td>\n",
       "      <td>234</td>\n",
       "    </tr>\n",
       "    <tr>\n",
       "      <th>5538</th>\n",
       "      <td>1999</td>\n",
       "      <td>BOS</td>\n",
       "      <td>AL</td>\n",
       "      <td>martipe02</td>\n",
       "      <td>11100000</td>\n",
       "      <td>-2.085938</td>\n",
       "      <td>640</td>\n",
       "    </tr>\n",
       "    <tr>\n",
       "      <th>12053</th>\n",
       "      <td>2014</td>\n",
       "      <td>BOS</td>\n",
       "      <td>AL</td>\n",
       "      <td>millean01</td>\n",
       "      <td>1900000</td>\n",
       "      <td>-2.055118</td>\n",
       "      <td>127</td>\n",
       "    </tr>\n",
       "    <tr>\n",
       "      <th>2311</th>\n",
       "      <td>1992</td>\n",
       "      <td>CIN</td>\n",
       "      <td>NL</td>\n",
       "      <td>dibblro01</td>\n",
       "      <td>1450000</td>\n",
       "      <td>-2.047393</td>\n",
       "      <td>211</td>\n",
       "    </tr>\n",
       "    <tr>\n",
       "      <th>12540</th>\n",
       "      <td>2015</td>\n",
       "      <td>CLE</td>\n",
       "      <td>AL</td>\n",
       "      <td>allenco01</td>\n",
       "      <td>547100</td>\n",
       "      <td>-2.033654</td>\n",
       "      <td>208</td>\n",
       "    </tr>\n",
       "    <tr>\n",
       "      <th>694</th>\n",
       "      <td>1987</td>\n",
       "      <td>HOU</td>\n",
       "      <td>NL</td>\n",
       "      <td>smithda02</td>\n",
       "      <td>700000</td>\n",
       "      <td>-2.033333</td>\n",
       "      <td>180</td>\n",
       "    </tr>\n",
       "    <tr>\n",
       "      <th>13105</th>\n",
       "      <td>2016</td>\n",
       "      <td>LAD</td>\n",
       "      <td>NL</td>\n",
       "      <td>janseke01</td>\n",
       "      <td>10650000</td>\n",
       "      <td>-2.024272</td>\n",
       "      <td>206</td>\n",
       "    </tr>\n",
       "    <tr>\n",
       "      <th>...</th>\n",
       "      <td>...</td>\n",
       "      <td>...</td>\n",
       "      <td>...</td>\n",
       "      <td>...</td>\n",
       "      <td>...</td>\n",
       "      <td>...</td>\n",
       "      <td>...</td>\n",
       "    </tr>\n",
       "    <tr>\n",
       "      <th>3766</th>\n",
       "      <td>1995</td>\n",
       "      <td>NYA</td>\n",
       "      <td>AL</td>\n",
       "      <td>boehrbr01</td>\n",
       "      <td>109000</td>\n",
       "      <td>3.962264</td>\n",
       "      <td>53</td>\n",
       "    </tr>\n",
       "    <tr>\n",
       "      <th>7761</th>\n",
       "      <td>2004</td>\n",
       "      <td>CHA</td>\n",
       "      <td>AL</td>\n",
       "      <td>wrighda02</td>\n",
       "      <td>340000</td>\n",
       "      <td>3.962264</td>\n",
       "      <td>53</td>\n",
       "    </tr>\n",
       "    <tr>\n",
       "      <th>8168</th>\n",
       "      <td>2005</td>\n",
       "      <td>CHN</td>\n",
       "      <td>NL</td>\n",
       "      <td>bartocl01</td>\n",
       "      <td>318600</td>\n",
       "      <td>3.966102</td>\n",
       "      <td>59</td>\n",
       "    </tr>\n",
       "    <tr>\n",
       "      <th>6931</th>\n",
       "      <td>2002</td>\n",
       "      <td>CIN</td>\n",
       "      <td>NL</td>\n",
       "      <td>acevejo01</td>\n",
       "      <td>233000</td>\n",
       "      <td>3.971831</td>\n",
       "      <td>71</td>\n",
       "    </tr>\n",
       "    <tr>\n",
       "      <th>6586</th>\n",
       "      <td>2001</td>\n",
       "      <td>HOU</td>\n",
       "      <td>NL</td>\n",
       "      <td>elartsc01</td>\n",
       "      <td>400000</td>\n",
       "      <td>4.000000</td>\n",
       "      <td>69</td>\n",
       "    </tr>\n",
       "    <tr>\n",
       "      <th>13303</th>\n",
       "      <td>2016</td>\n",
       "      <td>TBR</td>\n",
       "      <td>AL</td>\n",
       "      <td>geltzst01</td>\n",
       "      <td>519300</td>\n",
       "      <td>4.087500</td>\n",
       "      <td>80</td>\n",
       "    </tr>\n",
       "    <tr>\n",
       "      <th>5685</th>\n",
       "      <td>1999</td>\n",
       "      <td>KCA</td>\n",
       "      <td>AL</td>\n",
       "      <td>barbebr02</td>\n",
       "      <td>210000</td>\n",
       "      <td>4.285714</td>\n",
       "      <td>56</td>\n",
       "    </tr>\n",
       "    <tr>\n",
       "      <th>8532</th>\n",
       "      <td>2006</td>\n",
       "      <td>ARI</td>\n",
       "      <td>NL</td>\n",
       "      <td>ortizru01</td>\n",
       "      <td>7875000</td>\n",
       "      <td>4.289256</td>\n",
       "      <td>121</td>\n",
       "    </tr>\n",
       "    <tr>\n",
       "      <th>4130</th>\n",
       "      <td>1996</td>\n",
       "      <td>DET</td>\n",
       "      <td>AL</td>\n",
       "      <td>chrismi02</td>\n",
       "      <td>200000</td>\n",
       "      <td>4.300000</td>\n",
       "      <td>90</td>\n",
       "    </tr>\n",
       "    <tr>\n",
       "      <th>1720</th>\n",
       "      <td>1990</td>\n",
       "      <td>MON</td>\n",
       "      <td>NL</td>\n",
       "      <td>farmeho01</td>\n",
       "      <td>100000</td>\n",
       "      <td>4.304348</td>\n",
       "      <td>69</td>\n",
       "    </tr>\n",
       "    <tr>\n",
       "      <th>9146</th>\n",
       "      <td>2007</td>\n",
       "      <td>KCA</td>\n",
       "      <td>AL</td>\n",
       "      <td>elartsc01</td>\n",
       "      <td>4000000</td>\n",
       "      <td>4.324324</td>\n",
       "      <td>111</td>\n",
       "    </tr>\n",
       "    <tr>\n",
       "      <th>634</th>\n",
       "      <td>1987</td>\n",
       "      <td>CHA</td>\n",
       "      <td>AL</td>\n",
       "      <td>mckeojo01</td>\n",
       "      <td>675000</td>\n",
       "      <td>4.333333</td>\n",
       "      <td>63</td>\n",
       "    </tr>\n",
       "    <tr>\n",
       "      <th>7033</th>\n",
       "      <td>2002</td>\n",
       "      <td>KCA</td>\n",
       "      <td>AL</td>\n",
       "      <td>wilsokr01</td>\n",
       "      <td>240000</td>\n",
       "      <td>4.392857</td>\n",
       "      <td>56</td>\n",
       "    </tr>\n",
       "    <tr>\n",
       "      <th>6208</th>\n",
       "      <td>2000</td>\n",
       "      <td>MIL</td>\n",
       "      <td>NL</td>\n",
       "      <td>navarja01</td>\n",
       "      <td>5000000</td>\n",
       "      <td>4.392857</td>\n",
       "      <td>56</td>\n",
       "    </tr>\n",
       "    <tr>\n",
       "      <th>5886</th>\n",
       "      <td>1999</td>\n",
       "      <td>SEA</td>\n",
       "      <td>AL</td>\n",
       "      <td>hinchbr01</td>\n",
       "      <td>200000</td>\n",
       "      <td>4.402174</td>\n",
       "      <td>92</td>\n",
       "    </tr>\n",
       "    <tr>\n",
       "      <th>5115</th>\n",
       "      <td>1998</td>\n",
       "      <td>COL</td>\n",
       "      <td>NL</td>\n",
       "      <td>thompma01</td>\n",
       "      <td>300000</td>\n",
       "      <td>4.414286</td>\n",
       "      <td>70</td>\n",
       "    </tr>\n",
       "    <tr>\n",
       "      <th>7821</th>\n",
       "      <td>2004</td>\n",
       "      <td>COL</td>\n",
       "      <td>NL</td>\n",
       "      <td>starkde01</td>\n",
       "      <td>321000</td>\n",
       "      <td>4.423077</td>\n",
       "      <td>78</td>\n",
       "    </tr>\n",
       "    <tr>\n",
       "      <th>6889</th>\n",
       "      <td>2002</td>\n",
       "      <td>BAL</td>\n",
       "      <td>AL</td>\n",
       "      <td>towerjo01</td>\n",
       "      <td>245000</td>\n",
       "      <td>4.463415</td>\n",
       "      <td>82</td>\n",
       "    </tr>\n",
       "    <tr>\n",
       "      <th>5230</th>\n",
       "      <td>1998</td>\n",
       "      <td>MIN</td>\n",
       "      <td>AL</td>\n",
       "      <td>morgami01</td>\n",
       "      <td>1300000</td>\n",
       "      <td>4.500000</td>\n",
       "      <td>68</td>\n",
       "    </tr>\n",
       "    <tr>\n",
       "      <th>6161</th>\n",
       "      <td>2000</td>\n",
       "      <td>HOU</td>\n",
       "      <td>NL</td>\n",
       "      <td>goodedw01</td>\n",
       "      <td>500000</td>\n",
       "      <td>4.500000</td>\n",
       "      <td>110</td>\n",
       "    </tr>\n",
       "    <tr>\n",
       "      <th>9934</th>\n",
       "      <td>2009</td>\n",
       "      <td>CIN</td>\n",
       "      <td>NL</td>\n",
       "      <td>lincomi01</td>\n",
       "      <td>1500000</td>\n",
       "      <td>4.521739</td>\n",
       "      <td>69</td>\n",
       "    </tr>\n",
       "    <tr>\n",
       "      <th>4776</th>\n",
       "      <td>1997</td>\n",
       "      <td>OAK</td>\n",
       "      <td>AL</td>\n",
       "      <td>lewisri01</td>\n",
       "      <td>250000</td>\n",
       "      <td>4.553571</td>\n",
       "      <td>56</td>\n",
       "    </tr>\n",
       "    <tr>\n",
       "      <th>9254</th>\n",
       "      <td>2007</td>\n",
       "      <td>OAK</td>\n",
       "      <td>AL</td>\n",
       "      <td>loaizes01</td>\n",
       "      <td>7500000</td>\n",
       "      <td>4.676471</td>\n",
       "      <td>68</td>\n",
       "    </tr>\n",
       "    <tr>\n",
       "      <th>12843</th>\n",
       "      <td>2015</td>\n",
       "      <td>TBA</td>\n",
       "      <td>AL</td>\n",
       "      <td>yateski01</td>\n",
       "      <td>512800</td>\n",
       "      <td>4.819672</td>\n",
       "      <td>61</td>\n",
       "    </tr>\n",
       "    <tr>\n",
       "      <th>8880</th>\n",
       "      <td>2006</td>\n",
       "      <td>SFN</td>\n",
       "      <td>NL</td>\n",
       "      <td>worreti01</td>\n",
       "      <td>1750000</td>\n",
       "      <td>5.065574</td>\n",
       "      <td>61</td>\n",
       "    </tr>\n",
       "    <tr>\n",
       "      <th>11679</th>\n",
       "      <td>2013</td>\n",
       "      <td>CLE</td>\n",
       "      <td>AL</td>\n",
       "      <td>myersbr01</td>\n",
       "      <td>7000000</td>\n",
       "      <td>5.203125</td>\n",
       "      <td>64</td>\n",
       "    </tr>\n",
       "    <tr>\n",
       "      <th>7637</th>\n",
       "      <td>2003</td>\n",
       "      <td>SLN</td>\n",
       "      <td>NL</td>\n",
       "      <td>sprinru01</td>\n",
       "      <td>450000</td>\n",
       "      <td>5.250000</td>\n",
       "      <td>52</td>\n",
       "    </tr>\n",
       "    <tr>\n",
       "      <th>12982</th>\n",
       "      <td>2016</td>\n",
       "      <td>CIN</td>\n",
       "      <td>NL</td>\n",
       "      <td>hoovejj01</td>\n",
       "      <td>1400000</td>\n",
       "      <td>5.464286</td>\n",
       "      <td>56</td>\n",
       "    </tr>\n",
       "    <tr>\n",
       "      <th>11823</th>\n",
       "      <td>2013</td>\n",
       "      <td>NYN</td>\n",
       "      <td>NL</td>\n",
       "      <td>carsoro01</td>\n",
       "      <td>491375</td>\n",
       "      <td>5.644068</td>\n",
       "      <td>59</td>\n",
       "    </tr>\n",
       "    <tr>\n",
       "      <th>12986</th>\n",
       "      <td>2016</td>\n",
       "      <td>CIN</td>\n",
       "      <td>NL</td>\n",
       "      <td>moscojo01</td>\n",
       "      <td>508000</td>\n",
       "      <td>5.765625</td>\n",
       "      <td>64</td>\n",
       "    </tr>\n",
       "  </tbody>\n",
       "</table>\n",
       "<p>11469 rows × 7 columns</p>\n",
       "</div>"
      ],
      "text/plain": [
       "       yearID teamID lgID   playerID    salary       FIP  IPouts\n",
       "12096    2014    CIN   NL  chapmar01   5000000 -3.129630     162\n",
       "13179    2016    NYY   AL  chapmar01   9468443 -3.075000      80\n",
       "11145    2012    ATL   NL  kimbrcr01    590000 -2.760638     188\n",
       "7461     2003    LAN   NL  gagneer01    550000 -2.659919     247\n",
       "12165    2014    KCA   AL  daviswa01   4800000 -2.583333     216\n",
       "10344    2010    CHN   NL  marmoca01   2125000 -2.407725     233\n",
       "5525     1999    BAL   AL   ryanbj01    200000 -2.400000      55\n",
       "6666     2001    MON   NL  urbinug01   4200000 -2.400000      60\n",
       "12054    2014    BOS   AL  millean01   1900000 -2.400000      60\n",
       "13142    2016    MIL   NL  smithwi04   1475000 -2.345455      55\n",
       "10708    2011    ATL   NL  kimbrcr01    419000 -2.337662     231\n",
       "11030    2011    SFN   NL   romose01    450000 -2.270833     144\n",
       "10887    2011    LAN   NL  janseke01    416000 -2.254658     161\n",
       "10931    2011    NYA   AL  roberda08    460450 -2.235000     200\n",
       "11734    2013    KCA   AL  hollagr01    539500 -2.223881     201\n",
       "11221    2012    CIN   NL  chapmar01   4835772 -2.190698     215\n",
       "7688     2004    ANA   AL  rodrifr03    375000 -2.190476     252\n",
       "12525    2015    CIN   NL  chapmar01   8050000 -2.185930     199\n",
       "9647     2008    NYA   AL  hawkila01   3750000 -2.142857      63\n",
       "12024    2014    ATL   NL  kimbrcr01   7000000 -2.140541     185\n",
       "13176    2016    NYY   AL  betande01    507500 -2.136986     219\n",
       "11624    2013    CHA   AL  crainje01   4500000 -2.127273     110\n",
       "5681     1999    HOU   NL  wagnebi02   2250000 -2.102679     224\n",
       "5793     1999    NYN   NL  benitar01   2037500 -2.089744     234\n",
       "5538     1999    BOS   AL  martipe02  11100000 -2.085938     640\n",
       "12053    2014    BOS   AL  millean01   1900000 -2.055118     127\n",
       "2311     1992    CIN   NL  dibblro01   1450000 -2.047393     211\n",
       "12540    2015    CLE   AL  allenco01    547100 -2.033654     208\n",
       "694      1987    HOU   NL  smithda02    700000 -2.033333     180\n",
       "13105    2016    LAD   NL  janseke01  10650000 -2.024272     206\n",
       "...       ...    ...  ...        ...       ...       ...     ...\n",
       "3766     1995    NYA   AL  boehrbr01    109000  3.962264      53\n",
       "7761     2004    CHA   AL  wrighda02    340000  3.962264      53\n",
       "8168     2005    CHN   NL  bartocl01    318600  3.966102      59\n",
       "6931     2002    CIN   NL  acevejo01    233000  3.971831      71\n",
       "6586     2001    HOU   NL  elartsc01    400000  4.000000      69\n",
       "13303    2016    TBR   AL  geltzst01    519300  4.087500      80\n",
       "5685     1999    KCA   AL  barbebr02    210000  4.285714      56\n",
       "8532     2006    ARI   NL  ortizru01   7875000  4.289256     121\n",
       "4130     1996    DET   AL  chrismi02    200000  4.300000      90\n",
       "1720     1990    MON   NL  farmeho01    100000  4.304348      69\n",
       "9146     2007    KCA   AL  elartsc01   4000000  4.324324     111\n",
       "634      1987    CHA   AL  mckeojo01    675000  4.333333      63\n",
       "7033     2002    KCA   AL  wilsokr01    240000  4.392857      56\n",
       "6208     2000    MIL   NL  navarja01   5000000  4.392857      56\n",
       "5886     1999    SEA   AL  hinchbr01    200000  4.402174      92\n",
       "5115     1998    COL   NL  thompma01    300000  4.414286      70\n",
       "7821     2004    COL   NL  starkde01    321000  4.423077      78\n",
       "6889     2002    BAL   AL  towerjo01    245000  4.463415      82\n",
       "5230     1998    MIN   AL  morgami01   1300000  4.500000      68\n",
       "6161     2000    HOU   NL  goodedw01    500000  4.500000     110\n",
       "9934     2009    CIN   NL  lincomi01   1500000  4.521739      69\n",
       "4776     1997    OAK   AL  lewisri01    250000  4.553571      56\n",
       "9254     2007    OAK   AL  loaizes01   7500000  4.676471      68\n",
       "12843    2015    TBA   AL  yateski01    512800  4.819672      61\n",
       "8880     2006    SFN   NL  worreti01   1750000  5.065574      61\n",
       "11679    2013    CLE   AL  myersbr01   7000000  5.203125      64\n",
       "7637     2003    SLN   NL  sprinru01    450000  5.250000      52\n",
       "12982    2016    CIN   NL  hoovejj01   1400000  5.464286      56\n",
       "11823    2013    NYN   NL  carsoro01    491375  5.644068      59\n",
       "12986    2016    CIN   NL  moscojo01    508000  5.765625      64\n",
       "\n",
       "[11469 rows x 7 columns]"
      ]
     },
     "execution_count": 42,
     "metadata": {},
     "output_type": "execute_result"
    }
   ],
   "source": [
    "salaries_pitching_merge[salaries_pitching_merge['IPouts']>50].sort_values('FIP')"
   ]
  },
  {
   "cell_type": "code",
   "execution_count": 32,
   "metadata": {
    "collapsed": false
   },
   "outputs": [],
   "source": [
    "salaries_pitching_merge.replace([np.inf, -np.inf], np.nan,inplace=True)"
   ]
  },
  {
   "cell_type": "code",
   "execution_count": 43,
   "metadata": {
    "collapsed": false
   },
   "outputs": [
    {
     "data": {
      "text/plain": [
       "250.93885188234412"
      ]
     },
     "execution_count": 43,
     "metadata": {},
     "output_type": "execute_result"
    }
   ],
   "source": [
    "salaries_pitching_merge.IPouts.mean()"
   ]
  }
 ],
 "metadata": {
  "kernelspec": {
   "display_name": "Python 3",
   "language": "python",
   "name": "python3"
  },
  "language_info": {
   "codemirror_mode": {
    "name": "ipython",
    "version": 3
   },
   "file_extension": ".py",
   "mimetype": "text/x-python",
   "name": "python",
   "nbconvert_exporter": "python",
   "pygments_lexer": "ipython3",
   "version": "3.6.0"
  }
 },
 "nbformat": 4,
 "nbformat_minor": 2
}
