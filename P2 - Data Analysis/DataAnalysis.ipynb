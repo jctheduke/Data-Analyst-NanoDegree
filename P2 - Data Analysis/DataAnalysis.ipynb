{
 "cells": [
  {
   "cell_type": "markdown",
   "metadata": {},
   "source": [
    "# Lahman’s Baseball Database"
   ]
  },
  {
   "cell_type": "markdown",
   "metadata": {},
   "source": [
    "This database contains pitching, hitting, and fielding statistics for\n",
    "Major League Baseball from 1871 through 2016.  It includes data from\n",
    "the two current leagues (American and National), the four other \"major\" \n",
    "leagues (American Association, Union Association, Players League, and\n",
    "Federal League), and the National Association of 1871-1875. "
   ]
  },
  {
   "cell_type": "code",
   "execution_count": 1,
   "metadata": {
    "collapsed": true
   },
   "outputs": [],
   "source": [
    "# Importing the required Python libraries.\n",
    "import csv\n",
    "import numpy as np\n",
    "import pandas as pd\n",
    "import matplotlib.pyplot as plt\n",
    "from datetime import datetime\n",
    "import seaborn as sns\n",
    "\n",
    "%matplotlib inline"
   ]
  },
  {
   "cell_type": "code",
   "execution_count": 3,
   "metadata": {
    "collapsed": true
   },
   "outputs": [],
   "source": [
    "# Storing csv files in pandas data frame.\n",
    "master = pd.read_csv(\"./baseballdatabank-2017.1/core/Master.csv\")\n",
    "batting = pd.read_csv(\"./baseballdatabank-2017.1/core/Batting.csv\")\n",
    "pitching = pd.read_csv(\"./baseballdatabank-2017.1/core/Pitching.csv\")\n",
    "fielding = pd.read_csv(\"./baseballdatabank-2017.1/core/Fielding.csv\")\n",
    "salaries = pd.read_csv(\"./baseballdatabank-2017.1/core/Salaries.csv\")\n",
    "schools = pd.read_csv(\"./baseballdatabank-2017.1/core/Schools.csv\")\n",
    "colleges = pd.read_csv(\"./baseballdatabank-2017.1/core/CollegePlaying.csv\")"
   ]
  },
  {
   "cell_type": "markdown",
   "metadata": {},
   "source": [
    "#### Analysis of master table."
   ]
  },
  {
   "cell_type": "code",
   "execution_count": 7,
   "metadata": {},
   "outputs": [
    {
     "data": {
      "text/plain": [
       "(44963, 30)"
      ]
     },
     "execution_count": 7,
     "metadata": {},
     "output_type": "execute_result"
    }
   ],
   "source": [
    "pitching.shape"
   ]
  },
  {
   "cell_type": "code",
   "execution_count": 3,
   "metadata": {},
   "outputs": [
    {
     "data": {
      "text/plain": [
       "<matplotlib.axes._subplots.AxesSubplot at 0x1c7197da4a8>"
      ]
     },
     "execution_count": 3,
     "metadata": {},
     "output_type": "execute_result"
    },
    {
     "data": {
      "image/png": "[encoded data removed]",
      "text/plain": [
       "<matplotlib.figure.Figure at 0x1c7182cdfd0>"
      ]
     },
     "metadata": {},
     "output_type": "display_data"
    }
   ],
   "source": [
    "# Histogram plot of players birthmonth.\n",
    "master.birthMonth.plot(kind='hist',bins=12,xticks=range(1,13))"
   ]
  },
  {
   "cell_type": "markdown",
   "metadata": {},
   "source": [
    "Checking if the birth month of player has any impact on players selection process in the early years.If seems there is little or no birth month advantage."
   ]
  },
  {
   "cell_type": "code",
   "execution_count": 4,
   "metadata": {
    "collapsed": true
   },
   "outputs": [],
   "source": [
    "# Extracting important variables from master table\n",
    "master = master[['playerID','birthYear','birthState','birthCity','deathState','deathCity',\\\n",
    "                 'nameGiven','weight','height','bats','throws','finalGame']]"
   ]
  },
  {
   "cell_type": "markdown",
   "metadata": {},
   "source": [
    "* PlayesID associates player with his personal details like name,date of birth,deathdate etc.So,PlayerID is important field.\n",
    "* Histogram plot of birthMonth among different players shows a near uniform distribution along different months.So,birthMonth might not provide any additional information regarding the performance of the player.Same can be said about birthDay.\n",
    "* birthCountry of most of the player is united states.So,This fields does not provide additional information."
   ]
  },
  {
   "cell_type": "code",
   "execution_count": 5,
   "metadata": {},
   "outputs": [
    {
     "name": "stdout",
     "output_type": "stream",
     "text": [
      "Number of players whose birthYear is not recorded : 132\n",
      "Number of players whose birthState is not recorded : 571\n",
      "Number of players whose birthCity is not recorded : 180\n",
      "Number of players whose nameGiven is not recorded : 37\n"
     ]
    }
   ],
   "source": [
    "# Checking for null values in master table.\n",
    "print (\"Number of players whose birthYear is not recorded : {}\".format(master.birthYear.isnull().value_counts()[1]))\n",
    "print (\"Number of players whose birthState is not recorded : {}\".format(master.birthState.isnull().value_counts()[1]))\n",
    "print (\"Number of players whose birthCity is not recorded : {}\".format(master.birthCity.isnull().value_counts()[1]))\n",
    "print (\"Number of players whose nameGiven is not recorded : {}\".format(master.nameGiven.isnull().value_counts()[1]))"
   ]
  },
  {
   "cell_type": "code",
   "execution_count": 6,
   "metadata": {
    "collapsed": true
   },
   "outputs": [],
   "source": [
    "# Replacing current players final date with current date.\n",
    "date_object = datetime.now()\n",
    "formatted_date = date_object.strftime('%Y-%m-%d')\n",
    "master.finalGame.fillna(formatted_date,inplace=True)"
   ]
  },
  {
   "cell_type": "code",
   "execution_count": 7,
   "metadata": {
    "collapsed": true
   },
   "outputs": [],
   "source": [
    "# Lot of the records are having missing values in some feilds. These values  are facts. More detailed analysis of fields and data outside \n",
    "# of our current dataset is required to fill in these missing values.So, to avoid incorrect analysis ,records with incomplete data \n",
    "# dropped.\n",
    "def process_data(df):\n",
    "    \"\"\"\n",
    "    Takes in pandas dataframe.Removes records with null values.\n",
    "    Removes duplicates and returns the cleaned dataset.\n",
    "    \"\"\"\n",
    "    df.dropna(inplace=True)\n",
    "    df.drop_duplicates(inplace=True)\n",
    "    return df"
   ]
  },
  {
   "cell_type": "code",
   "execution_count": 8,
   "metadata": {
    "collapsed": true
   },
   "outputs": [],
   "source": [
    "# dropping the null values.\n",
    "master = process_data(master)\n",
    "batting = process_data(batting)\n",
    "pitching = process_data(pitching)"
   ]
  },
  {
   "cell_type": "markdown",
   "metadata": {},
   "source": [
    "##### Analysis of Batting stats of players."
   ]
  },
  {
   "cell_type": "markdown",
   "metadata": {},
   "source": [
    "###### Is there a positive corellation between highest runs and number of matches? Or is there a corellation between number of runs and number of years players play?"
   ]
  },
  {
   "cell_type": "code",
   "execution_count": 9,
   "metadata": {},
   "outputs": [
    {
     "name": "stdout",
     "output_type": "stream",
     "text": [
      "Correlation between total runs and total number of games playerd : 0.9339\n"
     ]
    },
    {
     "data": {
      "text/plain": [
       "<matplotlib.text.Text at 0x1c718c2e208>"
      ]
     },
     "execution_count": 9,
     "metadata": {},
     "output_type": "execute_result"
    },
    {
     "data": {
      "image/png": "[encoded data removed]",
      "text/plain": [
       "<matplotlib.figure.Figure at 0x1c718fcc588>"
      ]
     },
     "metadata": {},
     "output_type": "display_data"
    }
   ],
   "source": [
    "# Number of runs vs years.\n",
    "\n",
    "# Calculating the total runs scored by each player and total games played by player.\n",
    "player_total_runs = batting[['playerID','R','G']].groupby(by='playerID',as_index = False).sum()\n",
    "\n",
    "# Calculating the correlation between total runs and total games.\n",
    "runs_games_corr = player_total_runs.R.corr(player_total_runs.G)\n",
    "print(\"Correlation between total runs and total number of games playerd : {:.4f}\".format(runs_games_corr))\n",
    "\n",
    "# Plot between total runs and total games.\n",
    "plt = player_total_runs.plot(x='R',y='G',style='o',kind='scatter',title='Total number of Games Vs Total number of Runs')\n",
    "plt.set_xlabel('Total Runs')\n",
    "plt.set_ylabel('Total Games')"
   ]
  },
  {
   "cell_type": "code",
   "execution_count": 10,
   "metadata": {},
   "outputs": [
    {
     "name": "stdout",
     "output_type": "stream",
     "text": [
      "Correlation between no years palyed and no of runs : 0.6332\n"
     ]
    },
    {
     "data": {
      "text/plain": [
       "<matplotlib.text.Text at 0x1c718fbe0f0>"
      ]
     },
     "execution_count": 10,
     "metadata": {},
     "output_type": "execute_result"
    },
    {
     "data": {
      "image/png": "[encoded data removed]",
      "text/plain": [
       "<matplotlib.figure.Figure at 0x1c7193bd160>"
      ]
     },
     "metadata": {},
     "output_type": "display_data"
    }
   ],
   "source": [
    "# Number of runs with games.\n",
    "\n",
    "# counting no of years player played.\n",
    "player_years = batting[['playerID','yearID']].groupby(by='playerID').yearID.nunique()\n",
    "\n",
    "# mering player total years and total runs.\n",
    "player_runs_years = player_total_runs.join(player_years,on = 'playerID',how='inner')\n",
    "\n",
    "# Correlation between runs and no of years.\n",
    "runs_years_corr = player_runs_years.R.corr(player_runs_years.yearID)\n",
    "print(\"Correlation between no years palyed and no of runs : {:.4f}\".format(runs_years_corr))\n",
    "\n",
    "# plotting the total runs vs total years.\n",
    "plt2 = player_runs_years.plot(x='R', y='yearID', style='o', kind='scatter')\n",
    "plt2.set_xlabel('Total runs')\n",
    "plt2.set_ylabel('Number of years')"
   ]
  },
  {
   "cell_type": "markdown",
   "metadata": {},
   "source": [
    "As we can see in the above two plots, there is a strong correlation between the number of games played and total runs.But there is no strong correlation between the number of years played and total runs scored.\n",
    "This indicates that some players played fewer games even though they have played for more span of time."
   ]
  },
  {
   "cell_type": "code",
   "execution_count": 11,
   "metadata": {},
   "outputs": [
    {
     "name": "stdout",
     "output_type": "stream",
     "text": [
      "Correlation between number of years and number of games :0.8248\n"
     ]
    },
    {
     "data": {
      "text/plain": [
       "<matplotlib.text.Text at 0x1c7190ace10>"
      ]
     },
     "execution_count": 11,
     "metadata": {},
     "output_type": "execute_result"
    },
    {
     "data": {
      "image/png": "[encoded data removed]",
      "text/plain": [
       "<matplotlib.figure.Figure at 0x1c718fdc4e0>"
      ]
     },
     "metadata": {},
     "output_type": "display_data"
    }
   ],
   "source": [
    "# Relation between number of games and total years played.\n",
    "\n",
    "# Correlation between years and games.\n",
    "years_games_corr = player_runs_years.yearID.corr(player_runs_years.G)\n",
    "print (\"Correlation between number of years and number of games :{:.4f}\".format(years_games_corr))\n",
    "\n",
    "# plot between years and games.\n",
    "plt3 = player_runs_years.plot(x='yearID',y='G',style='o', kind='scatter', title= \"Number of games vs Total years played.\")\n",
    "plt3.set_xlabel('Total years')\n",
    "plt3.set_ylabel('Total number of games')"
   ]
  },
  {
   "cell_type": "markdown",
   "metadata": {},
   "source": [
    "We can see that correlation Total years played and total number of games is strong but not as strong as correlation between correlation between number of runs and total games."
   ]
  },
  {
   "cell_type": "markdown",
   "metadata": {},
   "source": [
    "### Is there any correlation between performance of the player and salary of the player ?"
   ]
  },
  {
   "cell_type": "markdown",
   "metadata": {},
   "source": [
    "There are two important fields where a player can contribute maximum to a team.Those are batting and pitching. Salary of the player depends on the value player contributes in winning the team for a particular season. Let's analyze batting and pitching metrics of different players and compare their salaries based on these metrics."
   ]
  },
  {
   "cell_type": "markdown",
   "metadata": {},
   "source": [
    "#### Batting"
   ]
  },
  {
   "cell_type": "markdown",
   "metadata": {},
   "source": [
    "Batting provides runs to the team.More runs a player makes, more are the chances for the team to win. So, offensive batting play of the player is given more importance. Two important sabermetric parameters for measuring players performance are OPS and wRC+.  Even though wRC+ provides more insight into players performance, its measure is limited to one particular season.As we want to measure the performance of players across all eras OPS is the perfect metric.\n",
    "\n",
    "\n",
    "OPS stands for On-base Plus Slugging. It's the sum of a player’s on-base percentage and their slugging percentage.\n",
    "\n",
    "**Formulas**\n",
    "$$ OPS = OBP + SLG $$\n",
    "$$ OBP = (H + BB + HBP) / (AB + BB + HBP + SF) $$\n",
    "$$ SLG = (1B + 2*2B + 3*3B + 4*HR) / AB $$\n",
    "\n",
    "In general, OPS captures a player’s ability to get on base and their ability to hit for extra bases. For the most part, those two factors capture more of what hitters are trying to do. Generally speaking, if you sort hitters by OPS, you are sorting them based on their production to date with some minor exceptions.\n",
    "\n",
    "OPS can determine how well a hitter has performed over a given period of time. The key to using OPS is understanding the current offensive climate. A .900 OPS is much more impressive in 2015 than it was in 2000. These days, league average is about .710 or so, with the best hitters around 1.000."
   ]
  },
  {
   "cell_type": "code",
   "execution_count": 12,
   "metadata": {},
   "outputs": [
    {
     "data": {
      "text/plain": [
       "Index(['playerID', 'yearID', 'stint', 'teamID', 'lgID', 'G', 'AB', 'R', 'H',\n",
       "       '2B', '3B', 'HR', 'RBI', 'SB', 'CS', 'BB', 'SO', 'IBB', 'HBP', 'SH',\n",
       "       'SF', 'GIDP'],\n",
       "      dtype='object')"
      ]
     },
     "execution_count": 12,
     "metadata": {},
     "output_type": "execute_result"
    }
   ],
   "source": [
    "# Columns in batting table.\n",
    "batting.columns"
   ]
  },
  {
   "cell_type": "markdown",
   "metadata": {},
   "source": [
    " **__Batting Table__**\n",
    "\n",
    "| code | Name\n",
    "| --- | ---\n",
    "| playerID | Player ID code\n",
    "| yearID | Year\n",
    "| stint | player's stint (order of appearances within a season)\n",
    "| teamID | Team\n",
    "| lgID | League\n",
    "| G | Games\n",
    "| AB | At Bats\n",
    "| R | Runs\n",
    "| H | Hits\n",
    "| 2B | Doubles\n",
    "| 3B | Triples\n",
    "| HR | Homeruns\n",
    "| RBI | Runs Batted In\n",
    "| SB | Stolen Bases\n",
    "| CS | Caught Stealing\n",
    "| BB | Base on Balls\n",
    "| SO | Strikeouts\n",
    "| IBB | Intentional walks\n",
    "| HBP | Hit by pitch\n",
    "| SH | Sacrifice hits\n",
    "| SF | Sacrifice flies\n",
    "| GIDP | Grounded into double plays"
   ]
  },
  {
   "cell_type": "code",
   "execution_count": 13,
   "metadata": {},
   "outputs": [
    {
     "data": {
      "text/html": [
       "<div>\n",
       "<style>\n",
       "    .dataframe thead tr:only-child th {\n",
       "        text-align: right;\n",
       "    }\n",
       "\n",
       "    .dataframe thead th {\n",
       "        text-align: left;\n",
       "    }\n",
       "\n",
       "    .dataframe tbody tr th {\n",
       "        vertical-align: top;\n",
       "    }\n",
       "</style>\n",
       "<table border=\"1\" class=\"dataframe\">\n",
       "  <thead>\n",
       "    <tr style=\"text-align: right;\">\n",
       "      <th></th>\n",
       "      <th>playerID</th>\n",
       "      <th>yearID</th>\n",
       "      <th>OPS</th>\n",
       "      <th>AB</th>\n",
       "    </tr>\n",
       "  </thead>\n",
       "  <tbody>\n",
       "    <tr>\n",
       "      <th>66023</th>\n",
       "      <td>perrypa02</td>\n",
       "      <td>1988</td>\n",
       "      <td>5.0</td>\n",
       "      <td>1</td>\n",
       "    </tr>\n",
       "    <tr>\n",
       "      <th>90632</th>\n",
       "      <td>hernafe02</td>\n",
       "      <td>2008</td>\n",
       "      <td>5.0</td>\n",
       "      <td>1</td>\n",
       "    </tr>\n",
       "    <tr>\n",
       "      <th>78763</th>\n",
       "      <td>motagu01</td>\n",
       "      <td>1999</td>\n",
       "      <td>5.0</td>\n",
       "      <td>1</td>\n",
       "    </tr>\n",
       "    <tr>\n",
       "      <th>80618</th>\n",
       "      <td>yanes01</td>\n",
       "      <td>2000</td>\n",
       "      <td>5.0</td>\n",
       "      <td>1</td>\n",
       "    </tr>\n",
       "    <tr>\n",
       "      <th>87023</th>\n",
       "      <td>rogered01</td>\n",
       "      <td>2005</td>\n",
       "      <td>5.0</td>\n",
       "      <td>1</td>\n",
       "    </tr>\n",
       "  </tbody>\n",
       "</table>\n",
       "</div>"
      ],
      "text/plain": [
       "        playerID  yearID  OPS  AB\n",
       "66023  perrypa02    1988  5.0   1\n",
       "90632  hernafe02    2008  5.0   1\n",
       "78763   motagu01    1999  5.0   1\n",
       "80618    yanes01    2000  5.0   1\n",
       "87023  rogered01    2005  5.0   1"
      ]
     },
     "execution_count": 13,
     "metadata": {},
     "output_type": "execute_result"
    }
   ],
   "source": [
    "# Deep copying the dataframe.\n",
    "batting_ops = batting.copy()\n",
    "\n",
    "# calculate OBP\n",
    "batting_ops['OBP'] = (batting_ops['H']+batting_ops['BB']+batting_ops['HBP']).div((batting_ops['AB']+batting_ops['BB']+batting_ops['HBP']+batting_ops['SF']))\n",
    "\n",
    "# calcualting SLG\n",
    "# H = 1B+2B+3B+HR\n",
    "batting_ops['1B'] = (batting_ops['H'] - (batting_ops['2B']+batting_ops['3B']+batting_ops['HR']))\n",
    "batting_ops['SLG'] = (batting_ops['H']+batting_ops['2B']+batting_ops['3B']*2+batting_ops['HR']*3).div(batting_ops['AB'])\n",
    "batting_ops['OPS'] = batting_ops['OBP']+batting_ops['SLG']\n",
    "\n",
    "# There are few records where 'AB'+'BB'+'HBP'+'SF' and 'AB' has zero values,These records rise nan values.\n",
    "# These indiacate that player didn't bat that year so he shoulb be awarded with 0 value.\n",
    "\n",
    "\n",
    "batting_ops.fillna(value=0,inplace= True)\n",
    "\n",
    "# Few of OPS values containing nulls because of missing values in batting table.\n",
    "batting_ops[['playerID','yearID','OPS','AB']].sort_values('OPS').tail()"
   ]
  },
  {
   "cell_type": "code",
   "execution_count": 14,
   "metadata": {},
   "outputs": [
    {
     "data": {
      "text/plain": [
       "playerID    0\n",
       "yearID      0\n",
       "stint       0\n",
       "teamID      0\n",
       "lgID        0\n",
       "G           0\n",
       "AB          0\n",
       "R           0\n",
       "H           0\n",
       "2B          0\n",
       "3B          0\n",
       "HR          0\n",
       "RBI         0\n",
       "SB          0\n",
       "CS          0\n",
       "BB          0\n",
       "SO          0\n",
       "IBB         0\n",
       "HBP         0\n",
       "SH          0\n",
       "SF          0\n",
       "GIDP        0\n",
       "OBP         0\n",
       "1B          0\n",
       "SLG         0\n",
       "OPS         0\n",
       "dtype: int64"
      ]
     },
     "execution_count": 14,
     "metadata": {},
     "output_type": "execute_result"
    }
   ],
   "source": [
    "# Checking for null values in batting_ops.\n",
    "batting_ops.isnull().sum()"
   ]
  },
  {
   "cell_type": "code",
   "execution_count": 15,
   "metadata": {},
   "outputs": [
    {
     "data": {
      "text/plain": [
       "yearID      0\n",
       "teamID      0\n",
       "lgID        0\n",
       "playerID    0\n",
       "salary      0\n",
       "dtype: int64"
      ]
     },
     "execution_count": 15,
     "metadata": {},
     "output_type": "execute_result"
    }
   ],
   "source": [
    "# Checking for nulls in salaries field.\n",
    "salaries.isnull().sum()"
   ]
  },
  {
   "cell_type": "code",
   "execution_count": 16,
   "metadata": {},
   "outputs": [
    {
     "name": "stdout",
     "output_type": "stream",
     "text": [
      "Minimum values of OPS : 0.0\n",
      "Maximum values of OPS : 5.0\n",
      "Mean values of OPS : 0.4267228910567672\n",
      "Mean values of At Bats for a player : 128.98056667925954\n"
     ]
    },
    {
     "data": {
      "text/html": [
       "<div>\n",
       "<style>\n",
       "    .dataframe thead tr:only-child th {\n",
       "        text-align: right;\n",
       "    }\n",
       "\n",
       "    .dataframe thead th {\n",
       "        text-align: left;\n",
       "    }\n",
       "\n",
       "    .dataframe tbody tr th {\n",
       "        vertical-align: top;\n",
       "    }\n",
       "</style>\n",
       "<table border=\"1\" class=\"dataframe\">\n",
       "  <thead>\n",
       "    <tr style=\"text-align: right;\">\n",
       "      <th></th>\n",
       "      <th>playerID</th>\n",
       "      <th>yearID</th>\n",
       "      <th>OPS</th>\n",
       "      <th>AB</th>\n",
       "    </tr>\n",
       "  </thead>\n",
       "  <tbody>\n",
       "    <tr>\n",
       "      <th>57966</th>\n",
       "      <td>munnisc01</td>\n",
       "      <td>1980</td>\n",
       "      <td>4.0</td>\n",
       "      <td>1</td>\n",
       "    </tr>\n",
       "    <tr>\n",
       "      <th>93074</th>\n",
       "      <td>chacigu01</td>\n",
       "      <td>2010</td>\n",
       "      <td>5.0</td>\n",
       "      <td>1</td>\n",
       "    </tr>\n",
       "    <tr>\n",
       "      <th>39860</th>\n",
       "      <td>sleatlo01</td>\n",
       "      <td>1958</td>\n",
       "      <td>5.0</td>\n",
       "      <td>1</td>\n",
       "    </tr>\n",
       "    <tr>\n",
       "      <th>43185</th>\n",
       "      <td>narumbu01</td>\n",
       "      <td>1963</td>\n",
       "      <td>5.0</td>\n",
       "      <td>1</td>\n",
       "    </tr>\n",
       "    <tr>\n",
       "      <th>61940</th>\n",
       "      <td>quirkja01</td>\n",
       "      <td>1984</td>\n",
       "      <td>5.0</td>\n",
       "      <td>1</td>\n",
       "    </tr>\n",
       "    <tr>\n",
       "      <th>66023</th>\n",
       "      <td>perrypa02</td>\n",
       "      <td>1988</td>\n",
       "      <td>5.0</td>\n",
       "      <td>1</td>\n",
       "    </tr>\n",
       "    <tr>\n",
       "      <th>90632</th>\n",
       "      <td>hernafe02</td>\n",
       "      <td>2008</td>\n",
       "      <td>5.0</td>\n",
       "      <td>1</td>\n",
       "    </tr>\n",
       "    <tr>\n",
       "      <th>78763</th>\n",
       "      <td>motagu01</td>\n",
       "      <td>1999</td>\n",
       "      <td>5.0</td>\n",
       "      <td>1</td>\n",
       "    </tr>\n",
       "    <tr>\n",
       "      <th>80618</th>\n",
       "      <td>yanes01</td>\n",
       "      <td>2000</td>\n",
       "      <td>5.0</td>\n",
       "      <td>1</td>\n",
       "    </tr>\n",
       "    <tr>\n",
       "      <th>87023</th>\n",
       "      <td>rogered01</td>\n",
       "      <td>2005</td>\n",
       "      <td>5.0</td>\n",
       "      <td>1</td>\n",
       "    </tr>\n",
       "  </tbody>\n",
       "</table>\n",
       "</div>"
      ],
      "text/plain": [
       "        playerID  yearID  OPS  AB\n",
       "57966  munnisc01    1980  4.0   1\n",
       "93074  chacigu01    2010  5.0   1\n",
       "39860  sleatlo01    1958  5.0   1\n",
       "43185  narumbu01    1963  5.0   1\n",
       "61940  quirkja01    1984  5.0   1\n",
       "66023  perrypa02    1988  5.0   1\n",
       "90632  hernafe02    2008  5.0   1\n",
       "78763   motagu01    1999  5.0   1\n",
       "80618    yanes01    2000  5.0   1\n",
       "87023  rogered01    2005  5.0   1"
      ]
     },
     "execution_count": 16,
     "metadata": {},
     "output_type": "execute_result"
    }
   ],
   "source": [
    "# Stats of OPS values.\n",
    "\n",
    "batting_ops.dropna(inplace=True)\n",
    "print(\"Minimum values of OPS : {}\".format(batting_ops.OPS.min()))\n",
    "print(\"Maximum values of OPS : {}\".format(batting_ops.OPS.max()))\n",
    "print(\"Mean values of OPS : {}\".format(batting_ops.OPS.mean()))\n",
    "print(\"Mean values of At Bats for a player : {}\".format(batting_ops.AB.mean()))\n",
    "\n",
    "batting_ops[['playerID','yearID','OPS','AB']].sort_values('OPS').tail(10)"
   ]
  },
  {
   "cell_type": "markdown",
   "metadata": {},
   "source": [
    "OPS of 5 is very high value, When checked AB(at bats) varialbe we can see that very high ops players batted very less time.So,keeping a cut off 20(mean is 166) for players will remove this unnecessary high OPS values."
   ]
  },
  {
   "cell_type": "code",
   "execution_count": 17,
   "metadata": {
    "collapsed": true
   },
   "outputs": [],
   "source": [
    "# batting_ops with AB greater than 20\n",
    "batting_ops = batting_ops[batting_ops['AB']>20]"
   ]
  },
  {
   "cell_type": "code",
   "execution_count": 18,
   "metadata": {
    "collapsed": true
   },
   "outputs": [],
   "source": [
    "# Merging salaries and batting dataframe based on playerID and yeadID.\n",
    "salary_OPS_merge = salaries.merge(batting_ops[['playerID','yearID','OPS','AB']],how='inner',on=['playerID','yearID'])\n",
    "\n",
    "# Dropping Null values from salary_OPS_merge dataframe.\n",
    "salary_OPS_merge.dropna(inplace=True)\n",
    "salary_ops_avg = salary_OPS_merge.groupby(by='playerID')[['playerID','OPS','AB','salary']].mean()"
   ]
  },
  {
   "cell_type": "markdown",
   "metadata": {},
   "source": [
    "###### Analysing salary against OPS"
   ]
  },
  {
   "cell_type": "code",
   "execution_count": 19,
   "metadata": {},
   "outputs": [
    {
     "name": "stdout",
     "output_type": "stream",
     "text": [
      "Correlation between salary and OPS is : 0.10187718521323913\n"
     ]
    },
    {
     "data": {
      "text/plain": [
       "<matplotlib.axes._subplots.AxesSubplot at 0x1c7185ca860>"
      ]
     },
     "execution_count": 19,
     "metadata": {},
     "output_type": "execute_result"
    },
    {
     "data": {
      "image/png": "[encoded data removed]",
      "text/plain": [
       "<matplotlib.figure.Figure at 0x1c7186b0ef0>"
      ]
     },
     "metadata": {},
     "output_type": "display_data"
    }
   ],
   "source": [
    "# Calculate corr_x() for given data frame between ops and salary.\n",
    "def corr_x(x):\n",
    "    return x.OPS.corr(x.salary)\n",
    "\n",
    "# Calculating Correlation for all years.\n",
    "print(\"Correlation between salary and OPS is : {}\".format(corr_x(salary_ops_avg)))\n",
    "salary_ops_avg.plot(x='OPS',y='salary',kind = 'scatter',title='Salary vs OPS')"
   ]
  },
  {
   "cell_type": "code",
   "execution_count": 20,
   "metadata": {
    "collapsed": true
   },
   "outputs": [],
   "source": [
    "# Getting TOP 20% OPS palyers.\n",
    "\n",
    "top_ops_index = salary_ops_avg.OPS.nlargest(int(len(salary_ops_avg)*.3))"
   ]
  },
  {
   "cell_type": "markdown",
   "metadata": {},
   "source": [
    "We can see a approximate bimodal distribution in between OPS and salary in above graph.There is a possibility that players with less OPS but high salary might have a good pitching performance and wise versa."
   ]
  },
  {
   "cell_type": "code",
   "execution_count": 21,
   "metadata": {},
   "outputs": [
    {
     "data": {
      "text/plain": [
       "yearID\n",
       "(1984.999, 1990.0]    0.149612\n",
       "(1990.0, 1994.0]      0.183188\n",
       "(1994.0, 1998.0]      0.246881\n",
       "(1998.0, 2003.0]      0.212291\n",
       "(2003.0, 2007.0]      0.213404\n",
       "(2007.0, 2012.0]      0.123621\n",
       "(2012.0, 2016.0]      0.129985\n",
       "dtype: float64"
      ]
     },
     "execution_count": 21,
     "metadata": {},
     "output_type": "execute_result"
    }
   ],
   "source": [
    "# Calculating correlation between ops and salary for 4 year interval periods.\n",
    "salary_OPS_merge.groupby(pd.qcut(salary_OPS_merge.yearID,7)).apply(corr_x)"
   ]
  },
  {
   "cell_type": "markdown",
   "metadata": {},
   "source": [
    "### Pitching analysis."
   ]
  },
  {
   "cell_type": "code",
   "execution_count": 22,
   "metadata": {},
   "outputs": [
    {
     "data": {
      "text/plain": [
       "Index(['playerID', 'yearID', 'stint', 'teamID', 'lgID', 'W', 'L', 'G', 'GS',\n",
       "       'CG', 'SHO', 'SV', 'IPouts', 'H', 'ER', 'HR', 'BB', 'SO', 'BAOpp',\n",
       "       'ERA', 'IBB', 'WP', 'HBP', 'BK', 'BFP', 'GF', 'R', 'SH', 'SF', 'GIDP'],\n",
       "      dtype='object')"
      ]
     },
     "execution_count": 22,
     "metadata": {},
     "output_type": "execute_result"
    }
   ],
   "source": [
    "pitching.columns"
   ]
  },
  {
   "cell_type": "markdown",
   "metadata": {},
   "source": [
    "Fielding Independent Pitching(FIP) is an advanced baseball statistic that attempts to better measure the performance of pitchers by looking at what they can control (strikeouts, walks, hit by pitches and homeruns) and taking out the impact from fielders.\n",
    "\n",
    "__Formula:__\n",
    "\n",
    "$$FIP= ((13HR + 3(BB+HBP) - 2K)/(IP)) + 3.10$$\n",
    "\n",
    "$$HR = home runs$$\n",
    "$$BB = walks$$\n",
    "$$HBP = hit by pitcher$$\n",
    "$$K = strikeouts thrown$$\n",
    "$$IP = innings pitched$$"
   ]
  },
  {
   "cell_type": "code",
   "execution_count": 23,
   "metadata": {},
   "outputs": [
    {
     "name": "stdout",
     "output_type": "stream",
     "text": [
      "Maximum vlaue of FIP: 39.0000\n",
      "Minimum value of FIP: -6.0000\n",
      "Average value of FIP: 1.0354\n",
      "Average value of IPouts: 186.5878184554489\n"
     ]
    }
   ],
   "source": [
    "# Calcualting FIP\n",
    "\n",
    "# FIP = ((13 x Home Runs) + (3 x Walks) – (2 x Strikeouts)) / (Innings Pitched))\n",
    "pitching['FIP']=(pitching['HR']*13+(pitching['BB']+pitching['HBP']*3-pitching['SO']*2)).div(pitching['IPouts']/3)\n",
    "\n",
    "# merging pitching and salaries table.\n",
    "salaries_pitching_merge = salaries.merge(pitching[['playerID','yearID','FIP','IPouts']],how='inner',on=['playerID','yearID'])\n",
    "salaries_pitching_grouping = salaries_pitching_merge.groupby(by='playerID')[['salary','FIP','IPouts']].mean()\n",
    "\n",
    "# Stats of FIP.\n",
    "print(\"Maximum vlaue of FIP: {:.4f}\".format(salaries_pitching_grouping.FIP.max()))\n",
    "print(\"Minimum value of FIP: {:.4f}\".format(salaries_pitching_grouping.FIP.min()))\n",
    "print(\"Average value of FIP: {:.4f}\".format(salaries_pitching_grouping.FIP.mean()))\n",
    "print(\"Average value of IPouts: {}\".format(salaries_pitching_grouping.IPouts.mean()))"
   ]
  },
  {
   "cell_type": "markdown",
   "metadata": {},
   "source": [
    "There are players whose IPouts values are twoo low,which are giving high FIP values.Considering palyers with more than 50 IPouts values."
   ]
  },
  {
   "cell_type": "code",
   "execution_count": 24,
   "metadata": {
    "collapsed": true
   },
   "outputs": [],
   "source": [
    "##  slaries with more than IPouts.\n",
    "salaries_pitching_grouping = salaries_pitching_grouping[salaries_pitching_grouping['IPouts']>50].sort_values('FIP')"
   ]
  },
  {
   "cell_type": "code",
   "execution_count": 25,
   "metadata": {},
   "outputs": [
    {
     "data": {
      "text/plain": [
       "<matplotlib.axes._subplots.AxesSubplot at 0x1c719926b38>"
      ]
     },
     "execution_count": 25,
     "metadata": {},
     "output_type": "execute_result"
    },
    {
     "data": {
      "image/png": "[encoded data removed]",
      "text/plain": [
       "<matplotlib.figure.Figure at 0x1c71851e630>"
      ]
     },
     "metadata": {},
     "output_type": "display_data"
    }
   ],
   "source": [
    "salaries_pitching_grouping.plot(y = 'salary',x = 'FIP',kind='scatter')"
   ]
  },
  {
   "cell_type": "code",
   "execution_count": 26,
   "metadata": {
    "collapsed": true
   },
   "outputs": [],
   "source": [
    "salaries_pitching_grouping['index'] = salaries_pitching_grouping.index"
   ]
  },
  {
   "cell_type": "code",
   "execution_count": 27,
   "metadata": {},
   "outputs": [
    {
     "name": "stdout",
     "output_type": "stream",
     "text": [
      "66175 12047 1470\n"
     ]
    },
    {
     "data": {
      "text/plain": [
       "5"
      ]
     },
     "execution_count": 27,
     "metadata": {},
     "output_type": "execute_result"
    }
   ],
   "source": [
    "# Setting batting column to 1 if players is a top ops player.\n",
    "\n",
    "print(len(batting),len(pitching),len(salaries_pitching_grouping))\n",
    "\n",
    "salaries_pitching_grouping['batter'] = 0\n",
    "salaries_pitching_grouping.index.isin(top_ops_index.index.values).sum()"
   ]
  },
  {
   "cell_type": "code",
   "execution_count": 28,
   "metadata": {},
   "outputs": [
    {
     "data": {
      "text/plain": [
       "11330"
      ]
     },
     "execution_count": 28,
     "metadata": {},
     "output_type": "execute_result"
    }
   ],
   "source": [
    "batting.playerID.nunique()"
   ]
  },
  {
   "cell_type": "code",
   "execution_count": 29,
   "metadata": {},
   "outputs": [
    {
     "data": {
      "text/plain": [
       "playerID    0\n",
       "yearID      0\n",
       "stint       0\n",
       "teamID      0\n",
       "lgID        0\n",
       "G           0\n",
       "AB          0\n",
       "R           0\n",
       "H           0\n",
       "2B          0\n",
       "3B          0\n",
       "HR          0\n",
       "RBI         0\n",
       "SB          0\n",
       "CS          0\n",
       "BB          0\n",
       "SO          0\n",
       "IBB         0\n",
       "HBP         0\n",
       "SH          0\n",
       "SF          0\n",
       "GIDP        0\n",
       "dtype: int64"
      ]
     },
     "execution_count": 29,
     "metadata": {},
     "output_type": "execute_result"
    }
   ],
   "source": [
    "batting.isnull().sum()"
   ]
  }
 ],
 "metadata": {
  "kernelspec": {
   "display_name": "Python 3",
   "language": "python",
   "name": "python3"
  },
  "language_info": {
   "codemirror_mode": {
    "name": "ipython",
    "version": 3
   },
   "file_extension": ".py",
   "mimetype": "text/x-python",
   "name": "python",
   "nbconvert_exporter": "python",
   "pygments_lexer": "ipython3",
   "version": "3.6.2"
  }
 },
 "nbformat": 4,
 "nbformat_minor": 2
}
